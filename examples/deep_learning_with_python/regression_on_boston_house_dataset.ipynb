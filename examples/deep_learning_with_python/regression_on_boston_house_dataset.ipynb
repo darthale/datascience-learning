{
 "cells": [
  {
   "cell_type": "markdown",
   "metadata": {},
   "source": [
    "# Regression problem with keras\n",
    "\n",
    "This notebooks contains a regression problem that is solved using a simple neural network, using the keras library. \n",
    "\n",
    "In this notebook we are going to deep dive into the following concepts:\n",
    "\n",
    "- **Data preparation**: we are going to see feature-wise normalization\n",
    "- **Network architecture**: due to the dimension of the dataset, we are going to use a smaller network. Loss function, metric and activation function for the last layer will be MSE, MAE and no activation function (since we don't have to restrict our inputs in any range)\n",
    "- **Overfitting**: we are going to see how to tune hyperparameters using a k-fold cross validation approach\n"
   ]
  },
  {
   "cell_type": "code",
   "execution_count": 1,
   "metadata": {},
   "outputs": [],
   "source": [
    "from keras.datasets import boston_housing\n",
    "from keras import models, layers\n",
    "import matplotlib.pyplot as plt\n",
    "import numpy as np"
   ]
  },
  {
   "cell_type": "markdown",
   "metadata": {},
   "source": [
    "## 1. Data loading\n",
    "\n",
    "We load the boston house pricing dataset from the keras libary."
   ]
  },
  {
   "cell_type": "code",
   "execution_count": 2,
   "metadata": {},
   "outputs": [
    {
     "name": "stdout",
     "output_type": "stream",
     "text": [
      "Downloading data from https://storage.googleapis.com/tensorflow/tf-keras-datasets/boston_housing.npz\n",
      "57344/57026 [==============================] - 0s 1us/step\n"
     ]
    }
   ],
   "source": [
    "(train_data, train_targets), (test_data, test_targets) = boston_housing.load_data()"
   ]
  },
  {
   "cell_type": "code",
   "execution_count": 3,
   "metadata": {},
   "outputs": [
    {
     "name": "stdout",
     "output_type": "stream",
     "text": [
      "train_data SHAPE: (404, 13)\n",
      "train_targets SHAPE: (404,)\n",
      "test_data SHAPE: (102, 13)\n",
      "test_targets SHAPE: (102,)\n"
     ]
    }
   ],
   "source": [
    "print(f\"train_data SHAPE: {train_data.shape}\")\n",
    "print(f\"train_targets SHAPE: {train_targets.shape}\")\n",
    "print(f\"test_data SHAPE: {test_data.shape}\")\n",
    "print(f\"test_targets SHAPE: {test_targets.shape}\")"
   ]
  },
  {
   "cell_type": "code",
   "execution_count": 4,
   "metadata": {},
   "outputs": [
    {
     "name": "stdout",
     "output_type": "stream",
     "text": [
      "These are the median values of the houses (in thousand of dollars):\n",
      " [15.2 42.3 50.  21.1 17.7 18.5 11.3 15.6 15.6 14.4 12.1 17.9 23.1 19.9\n",
      " 15.7]..\n"
     ]
    }
   ],
   "source": [
    "print(f\"These are the median values of the houses (in thousand of dollars):\\n {train_targets[0:15]}..\")"
   ]
  },
  {
   "cell_type": "code",
   "execution_count": 5,
   "metadata": {},
   "outputs": [
    {
     "name": "stdout",
     "output_type": "stream",
     "text": [
      "One row (one sample) has n (13,) features\n"
     ]
    }
   ],
   "source": [
    "print(f\"One row (one sample) has n {train_data[0].shape} features\")"
   ]
  },
  {
   "cell_type": "markdown",
   "metadata": {},
   "source": [
    "## 2. Data preparation\n",
    "\n",
    "It would be problematic to feed into a neural network values that all take wildly different ranges. The network might be able to automatically adapt to such heterogeneous data, but it would definitely make learning more difficult. \n",
    "\n",
    "A widespread best practice to deal with such data is to do feature-wise normalization: for each feature in the input\n",
    "data (a column in the input data matrix), you subtract the mean of the feature and divide by the standard deviation, so that the feature is centered around 0 and has a unit standard deviation.\n",
    "\n",
    "**Note: the quantities used for normalizing the test data are computed using the training data. You should never use in your workflow any quantity computed on the test data, even for something as simple as data normalization.**"
   ]
  },
  {
   "cell_type": "code",
   "execution_count": 6,
   "metadata": {},
   "outputs": [],
   "source": [
    "mean = train_data.mean(axis=0)\n",
    "train_data -= mean\n",
    "std = train_data.std(axis=0)\n",
    "train_data /= std\n",
    "test_data -= mean\n",
    "test_data /= std"
   ]
  },
  {
   "cell_type": "code",
   "execution_count": 7,
   "metadata": {},
   "outputs": [
    {
     "data": {
      "text/plain": [
       "array([-0.27224633, -0.48361547, -0.43576161, -0.25683275, -0.1652266 ,\n",
       "       -0.1764426 ,  0.81306188,  0.1166983 , -0.62624905, -0.59517003,\n",
       "        1.14850044,  0.44807713,  0.8252202 ])"
      ]
     },
     "execution_count": 7,
     "metadata": {},
     "output_type": "execute_result"
    }
   ],
   "source": [
    "train_data[0]"
   ]
  },
  {
   "cell_type": "markdown",
   "metadata": {},
   "source": [
    "## 3. Bulding the network\n",
    "\n",
    "Here we need to design the network, in term of number of layers, number of hidden units per layer, loss function and metrics to monitor.\n",
    "\n",
    "**Mid layers**:\n",
    "There a few samples are available, so we'll use a very small network with two hidden layers, each with 64 units. *In general, the less training data you have, the worse overfitting will be, and using a small network is one way to mitigate overfitting.*\n",
    "\n",
    "\n",
    "**Output layer**:\n",
    "The network ends with a single unit and no activation. This is a typical setup for scalar regression (a regression where you’re trying to predict a single continuous value). Applying an activation function would constrain the range the output can take; for instance, if you applied a sigmoid activation function to the last layer, the network could only learn to predict values between 0 and 1. Here, because the last layer is purely linear, the network is free to learn to predict values in any range.\n",
    "\n",
    "**Loss function and metrics**:\n",
    "We are going to use the mse loss function (mean squared error): the square of the difference between the predictions and the targets.\n",
    "We are monitoring during training: mean absolute error (MAE). It’s the absolute value of the difference between the predictions and the targets. For instance, an MAE of 0.5 on this problem would mean your predictions are off by $500\n",
    "on average."
   ]
  },
  {
   "cell_type": "code",
   "execution_count": 8,
   "metadata": {},
   "outputs": [],
   "source": [
    "def build_model():\n",
    "    model = models.Sequential()\n",
    "    model.add(layers.Dense(64, activation='relu',input_shape=(train_data.shape[1],)))\n",
    "    model.add(layers.Dense(64, activation='relu'))\n",
    "    model.add(layers.Dense(1))\n",
    "    \n",
    "    model.compile(optimizer='rmsprop', loss='mse', metrics=['mae'])\n",
    "    \n",
    "    return model"
   ]
  },
  {
   "cell_type": "markdown",
   "metadata": {},
   "source": [
    "## 4. Model evaluation\n",
    "\n",
    "To evaluate the network while you keep adjusting its (hyper-)parameters (such as the number of epochs used for training), we are going to use a K-fold cross-validation approach.\n",
    "\n",
    "It consists of splitting the available data into K partitions (typically K = 4 or 5), instantiating K identical models, and training each one on K – 1 partitions while evaluating on the remaining partition. The validation score for the model used is then the average of the K validation scores obtained."
   ]
  },
  {
   "cell_type": "code",
   "execution_count": 9,
   "metadata": {},
   "outputs": [
    {
     "name": "stdout",
     "output_type": "stream",
     "text": [
      "processing fold # 0\n",
      "val_data SHAPE: (101, 13)\n",
      "val_targets SHAPE: (101,)\n",
      "partial_train_data SHAPE: (303, 13)\n",
      "partial_train_targets SHAPE: (303,)\n",
      "--------------------------------------------\n",
      "processing fold # 1\n",
      "val_data SHAPE: (101, 13)\n",
      "val_targets SHAPE: (101,)\n",
      "partial_train_data SHAPE: (303, 13)\n",
      "partial_train_targets SHAPE: (303,)\n",
      "--------------------------------------------\n",
      "processing fold # 2\n",
      "val_data SHAPE: (101, 13)\n",
      "val_targets SHAPE: (101,)\n",
      "partial_train_data SHAPE: (303, 13)\n",
      "partial_train_targets SHAPE: (303,)\n",
      "--------------------------------------------\n",
      "processing fold # 3\n",
      "val_data SHAPE: (101, 13)\n",
      "val_targets SHAPE: (101,)\n",
      "partial_train_data SHAPE: (303, 13)\n",
      "partial_train_targets SHAPE: (303,)\n",
      "--------------------------------------------\n"
     ]
    }
   ],
   "source": [
    "k=4 # 4-fold cross validation\n",
    "num_val_samples = len(train_data) // k # len(train_data) = 404, num_val_samples = 101\n",
    "num_epochs = 100\n",
    "all_scores = []\n",
    "\n",
    "for i in range(k):\n",
    "    print(\"processing fold #\", i)\n",
    "    val_data = train_data[i * num_val_samples: (i + 1) * num_val_samples]\n",
    "    val_targets = train_targets[i * num_val_samples: (i + 1) * num_val_samples]\n",
    "    partial_train_data = np.concatenate([train_data[:i * num_val_samples], train_data[(i + 1) * num_val_samples:]], axis=0)\n",
    "    partial_train_targets = np.concatenate([train_targets[:i * num_val_samples],train_targets[(i + 1) * num_val_samples:]],\n",
    "    axis=0)\n",
    "    \n",
    "    print(f\"val_data SHAPE: {val_data.shape}\")\n",
    "    print(f\"val_targets SHAPE: {val_targets.shape}\")\n",
    "    print(f\"partial_train_data SHAPE: {partial_train_data.shape}\")\n",
    "    print(f\"partial_train_targets SHAPE: {partial_train_targets.shape}\")\n",
    "    print(\"--------------------------------------------\")\n",
    "    "
   ]
  },
  {
   "cell_type": "code",
   "execution_count": 10,
   "metadata": {},
   "outputs": [
    {
     "name": "stdout",
     "output_type": "stream",
     "text": [
      "processing fold # 0\n",
      "processing fold # 1\n",
      "processing fold # 2\n",
      "processing fold # 3\n"
     ]
    }
   ],
   "source": [
    "for i in range(k):\n",
    "    print(\"processing fold #\", i)\n",
    "    val_data = train_data[i * num_val_samples: (i + 1) * num_val_samples]\n",
    "    val_targets = train_targets[i * num_val_samples: (i + 1) * num_val_samples]\n",
    "    partial_train_data = np.concatenate([train_data[:i * num_val_samples], train_data[(i + 1) * num_val_samples:]], axis=0)\n",
    "    partial_train_targets = np.concatenate([train_targets[:i * num_val_samples],train_targets[(i + 1) * num_val_samples:]],\n",
    "    axis=0)\n",
    "    \n",
    "    model = build_model()\n",
    "    \n",
    "    model.fit(partial_train_data, partial_train_targets, epochs=num_epochs, batch_size=1, verbose=0)\n",
    "    \n",
    "    val_mse, val_mae = model.evaluate(val_data, val_targets, verbose=0)\n",
    "    \n",
    "    all_scores.append(val_mae)"
   ]
  },
  {
   "cell_type": "code",
   "execution_count": 12,
   "metadata": {},
   "outputs": [
    {
     "name": "stdout",
     "output_type": "stream",
     "text": [
      "Validation MAE scores for the 4 training processes: [2.1407392024993896, 2.5022964477539062, 2.6515953540802, 2.5531888008117676]\n",
      "\n",
      "Validation MAE average: 2.461954951286316\n"
     ]
    }
   ],
   "source": [
    "print(f\"Validation MAE scores for the 4 training processes: {all_scores}\\n\")\n",
    "print(f\"Validation MAE average: {np.average(all_scores)}\")\n"
   ]
  },
  {
   "cell_type": "markdown",
   "metadata": {},
   "source": [
    "## 4a. How to tune hyperparameters with k-fold cross validation\n",
    "\n",
    "There are some important things to discuss here.\n",
    "\n",
    "The 1st for loop just shows how a 4-fold cross validation deals with training and validation data \n",
    "\n",
    "The 2nd for loop is the actual 4-fold cross validation that build and train 4 models. The 4 models have been trained \n",
    "with the same hyperparameters and the validation MAE for the 4 iterations have been stored in the `all_scores` array. \n",
    "\n",
    "If we average the MAE in `all_scores` we get a much more reliable meausre than if we were to just train a single model and evaluate it once. \n",
    "\n",
    "However, k-fold cross validation can do much more than simply storing a metric value at each iteration. Let's say we want to observe how the MAE change with different number of epochs in order to choose the best value for the epochs hyperparameter. What we can do is the following:\n",
    "\n",
    "1. We modify the k-fold cross validation loop and we store the MAE score per-epoch \n",
    "2. We compute the average of the per-epoch MAE scores for all folds\n",
    "3. We plot the results in a chart with x, y axis as `epochs`, `Validation MAE` obtaining a validation MAE by epoch\n",
    "\n",
    "In the plot we will see that the model starts overfitting after a certain number of epochs and so we are going to be able to select the best number of epochs. \n",
    "\n",
    "We can apply the same logic to other hyperparameter of the NN: number of layers, number of hidden units, etc. \n",
    "\n",
    "This is how **hyperparameters tuning** works with k-fold cross validation. \n",
    "\n",
    "Once we find the best hyperparameters, we train our model on the full training + validation set and we measure its statistical power against the test set. "
   ]
  },
  {
   "cell_type": "code",
   "execution_count": 17,
   "metadata": {},
   "outputs": [
    {
     "name": "stdout",
     "output_type": "stream",
     "text": [
      "processing fold # 0\n",
      "processing fold # 1\n",
      "processing fold # 2\n",
      "processing fold # 3\n"
     ]
    }
   ],
   "source": [
    "k=4 # 4-fold cross validation\n",
    "num_val_samples = len(train_data) // k # len(train_data) = 404, num_val_samples = 101\n",
    "num_epochs = 500\n",
    "all_mae_histories = []\n",
    "\n",
    "for i in range(k):\n",
    "    print(\"processing fold #\", i)\n",
    "    val_data = train_data[i * num_val_samples: (i + 1) * num_val_samples]\n",
    "    val_targets = train_targets[i * num_val_samples: (i + 1) * num_val_samples]\n",
    "    partial_train_data = np.concatenate([train_data[:i * num_val_samples], train_data[(i + 1) * num_val_samples:]], axis=0)\n",
    "    partial_train_targets = np.concatenate([train_targets[:i * num_val_samples],train_targets[(i + 1) * num_val_samples:]],\n",
    "    axis=0)\n",
    "    \n",
    "    model = build_model()\n",
    "    \n",
    "    # here is how we store per-epoch MAE\n",
    "    history = model.fit(partial_train_data, partial_train_targets, validation_data=(val_data, val_targets),\n",
    "                        epochs=num_epochs, batch_size=1, verbose=0)\n",
    "    mae_history = history.history[\"val_mae\"]\n",
    "    all_mae_histories.append(mae_history)\n",
    "    "
   ]
  },
  {
   "cell_type": "code",
   "execution_count": 22,
   "metadata": {},
   "outputs": [
    {
     "name": "stdout",
     "output_type": "stream",
     "text": [
      "MAE histories containing: 4 training rounds\n",
      "Each training round containing: 500 MAE == number of epochs\n"
     ]
    }
   ],
   "source": [
    "print(f\"MAE histories containing: {len(all_mae_histories)} training rounds\")\n",
    "print(f\"Each training round containing: {len(all_mae_histories[0])} MAE == number of epochs\")"
   ]
  },
  {
   "cell_type": "markdown",
   "metadata": {},
   "source": [
    "Now we want to compute the average of the per-epoch MAE scores for all folds. This answers the question: *what's the average MAE score at epoch i?* "
   ]
  },
  {
   "cell_type": "code",
   "execution_count": 23,
   "metadata": {},
   "outputs": [],
   "source": [
    "average_mae_history = [np.mean([x[i] for x in all_mae_histories]) for i in range(num_epochs)]"
   ]
  },
  {
   "cell_type": "code",
   "execution_count": 28,
   "metadata": {},
   "outputs": [
    {
     "name": "stdout",
     "output_type": "stream",
     "text": [
      "We have obtained an average MAE, the lenght of average_mae_history is indeed: 500\n"
     ]
    }
   ],
   "source": [
    "print(f\"We have obtained an average MAE, the lenght of average_mae_history is indeed: {len(average_mae_history)}\")"
   ]
  },
  {
   "cell_type": "code",
   "execution_count": 29,
   "metadata": {},
   "outputs": [
    {
     "data": {
      "image/png": "[encoded data removed]",
      "text/plain": [
       "<Figure size 432x288 with 1 Axes>"
      ]
     },
     "metadata": {
      "needs_background": "light"
     },
     "output_type": "display_data"
    }
   ],
   "source": [
    "plt.plot(range(1, len(average_mae_history) +1), average_mae_history)\n",
    "plt.xlabel(\"Epochs\")\n",
    "plt.ylabel(\"Validation MAE\")\n",
    "plt.show()"
   ]
  },
  {
   "cell_type": "markdown",
   "metadata": {},
   "source": [
    "The chart shows high variance and it's hard to undersand where the overfitting stars happening. We can try to smooth the curve to get a clearer understanding.\n",
    "\n",
    "We will see in the chart below, that MAE starts increasing after epoch 80. So we can train a new model with 80 as optimal epoch hyperparameter. "
   ]
  },
  {
   "cell_type": "code",
   "execution_count": 30,
   "metadata": {},
   "outputs": [],
   "source": [
    "def smooth_curve(points, factor=0.9):\n",
    "    smoothed_points = []\n",
    "    for point in points:\n",
    "        if smoothed_points:\n",
    "            previous = smoothed_points[-1]\n",
    "            smoothed_points.append(previous * factor + point * (1 - factor))\n",
    "        else:\n",
    "            smoothed_points.append(point)\n",
    "    \n",
    "    return smoothed_points"
   ]
  },
  {
   "cell_type": "code",
   "execution_count": 31,
   "metadata": {},
   "outputs": [
    {
     "data": {
      "image/png": "[encoded data removed]",
      "text/plain": [
       "<Figure size 432x288 with 1 Axes>"
      ]
     },
     "metadata": {
      "needs_background": "light"
     },
     "output_type": "display_data"
    }
   ],
   "source": [
    "smooth_mae_history = smooth_curve(average_mae_history[10:])\n",
    "\n",
    "plt.plot(range(1, len(smooth_mae_history) + 1), smooth_mae_history)\n",
    "plt.xlabel(\"Epochs\")\n",
    "plt.ylabel(\"Validation MAE\")\n",
    "plt.show()"
   ]
  },
  {
   "cell_type": "markdown",
   "metadata": {},
   "source": [
    "## 5. Model retraining with 80 epochs"
   ]
  },
  {
   "cell_type": "code",
   "execution_count": 67,
   "metadata": {},
   "outputs": [
    {
     "name": "stdout",
     "output_type": "stream",
     "text": [
      "Epoch 1/80\n",
      "404/404 [==============================] - 0s 848us/step - loss: 166.1077 - mae: 9.2364\n",
      "Epoch 2/80\n",
      "404/404 [==============================] - 0s 893us/step - loss: 21.9098 - mae: 3.1356\n",
      "Epoch 3/80\n",
      "404/404 [==============================] - 0s 862us/step - loss: 16.8608 - mae: 2.7706\n",
      "Epoch 4/80\n",
      "404/404 [==============================] - 0s 851us/step - loss: 14.6129 - mae: 2.5952\n",
      "Epoch 5/80\n",
      "404/404 [==============================] - 0s 839us/step - loss: 12.6857 - mae: 2.4684\n",
      "Epoch 6/80\n",
      "404/404 [==============================] - 0s 839us/step - loss: 11.8135 - mae: 2.4214\n",
      "Epoch 7/80\n",
      "404/404 [==============================] - 0s 838us/step - loss: 10.9567 - mae: 2.2786\n",
      "Epoch 8/80\n",
      "404/404 [==============================] - 0s 839us/step - loss: 10.8067 - mae: 2.2963\n",
      "Epoch 9/80\n",
      "404/404 [==============================] - 0s 823us/step - loss: 10.7090 - mae: 2.2039\n",
      "Epoch 10/80\n",
      "404/404 [==============================] - 0s 846us/step - loss: 10.3338 - mae: 2.2135\n",
      "Epoch 11/80\n",
      "404/404 [==============================] - 0s 861us/step - loss: 9.9098 - mae: 2.2366\n",
      "Epoch 12/80\n",
      "404/404 [==============================] - 0s 864us/step - loss: 9.5786 - mae: 2.1036\n",
      "Epoch 13/80\n",
      "404/404 [==============================] - 0s 882us/step - loss: 9.1330 - mae: 2.1167\n",
      "Epoch 14/80\n",
      "404/404 [==============================] - 0s 864us/step - loss: 8.9275 - mae: 2.0539\n",
      "Epoch 15/80\n",
      "404/404 [==============================] - 0s 860us/step - loss: 8.7799 - mae: 2.0232\n",
      "Epoch 16/80\n",
      "404/404 [==============================] - 0s 837us/step - loss: 8.8540 - mae: 2.0472 0s - loss: 12.7572 - mae:\n",
      "Epoch 17/80\n",
      "404/404 [==============================] - 0s 855us/step - loss: 8.6003 - mae: 2.0216\n",
      "Epoch 18/80\n",
      "404/404 [==============================] - 0s 849us/step - loss: 8.4969 - mae: 1.9494\n",
      "Epoch 19/80\n",
      "404/404 [==============================] - 0s 839us/step - loss: 8.2759 - mae: 2.0216\n",
      "Epoch 20/80\n",
      "404/404 [==============================] - 0s 879us/step - loss: 8.4665 - mae: 1.9736\n",
      "Epoch 21/80\n",
      "404/404 [==============================] - 0s 843us/step - loss: 8.1833 - mae: 1.9700\n",
      "Epoch 22/80\n",
      "404/404 [==============================] - 0s 843us/step - loss: 7.8564 - mae: 1.9425\n",
      "Epoch 23/80\n",
      "404/404 [==============================] - 0s 844us/step - loss: 7.8412 - mae: 1.9242\n",
      "Epoch 24/80\n",
      "404/404 [==============================] - 0s 838us/step - loss: 7.8638 - mae: 1.9432\n",
      "Epoch 25/80\n",
      "404/404 [==============================] - 0s 871us/step - loss: 7.4514 - mae: 1.9570\n",
      "Epoch 26/80\n",
      "404/404 [==============================] - 0s 860us/step - loss: 7.8324 - mae: 1.9160\n",
      "Epoch 27/80\n",
      "404/404 [==============================] - 0s 863us/step - loss: 7.3582 - mae: 1.8776\n",
      "Epoch 28/80\n",
      "404/404 [==============================] - 0s 866us/step - loss: 7.4410 - mae: 1.8199\n",
      "Epoch 29/80\n",
      "404/404 [==============================] - 0s 846us/step - loss: 6.9872 - mae: 1.7988\n",
      "Epoch 30/80\n",
      "404/404 [==============================] - 0s 864us/step - loss: 7.2877 - mae: 1.8125\n",
      "Epoch 31/80\n",
      "404/404 [==============================] - 0s 835us/step - loss: 7.3485 - mae: 1.7979\n",
      "Epoch 32/80\n",
      "404/404 [==============================] - 0s 830us/step - loss: 7.2436 - mae: 1.7887\n",
      "Epoch 33/80\n",
      "404/404 [==============================] - 0s 857us/step - loss: 6.7551 - mae: 1.7781\n",
      "Epoch 34/80\n",
      "404/404 [==============================] - 0s 850us/step - loss: 6.7963 - mae: 1.8013\n",
      "Epoch 35/80\n",
      "404/404 [==============================] - 0s 886us/step - loss: 6.3892 - mae: 1.7368\n",
      "Epoch 36/80\n",
      "404/404 [==============================] - 0s 868us/step - loss: 6.8735 - mae: 1.7519\n",
      "Epoch 37/80\n",
      "404/404 [==============================] - 0s 912us/step - loss: 6.3140 - mae: 1.7086\n",
      "Epoch 38/80\n",
      "404/404 [==============================] - 0s 856us/step - loss: 6.2864 - mae: 1.7518\n",
      "Epoch 39/80\n",
      "404/404 [==============================] - 0s 853us/step - loss: 6.1186 - mae: 1.6786\n",
      "Epoch 40/80\n",
      "404/404 [==============================] - 0s 845us/step - loss: 6.3631 - mae: 1.7188\n",
      "Epoch 41/80\n",
      "404/404 [==============================] - 0s 810us/step - loss: 6.1697 - mae: 1.6745\n",
      "Epoch 42/80\n",
      "404/404 [==============================] - 0s 851us/step - loss: 5.8328 - mae: 1.6818\n",
      "Epoch 43/80\n",
      "404/404 [==============================] - 0s 1ms/step - loss: 6.2494 - mae: 1.6399\n",
      "Epoch 44/80\n",
      "404/404 [==============================] - 0s 888us/step - loss: 6.0700 - mae: 1.6379\n",
      "Epoch 45/80\n",
      "404/404 [==============================] - 0s 892us/step - loss: 5.6338 - mae: 1.6317\n",
      "Epoch 46/80\n",
      "404/404 [==============================] - 0s 862us/step - loss: 5.8956 - mae: 1.6164 0s - loss: 5.7797 - mae: 1.57\n",
      "Epoch 47/80\n",
      "404/404 [==============================] - ETA: 0s - loss: 5.2451 - mae: 1.571 - 0s 869us/step - loss: 5.6373 - mae: 1.6298\n",
      "Epoch 48/80\n",
      "404/404 [==============================] - 0s 874us/step - loss: 5.3708 - mae: 1.5789\n",
      "Epoch 49/80\n",
      "404/404 [==============================] - 0s 864us/step - loss: 5.4681 - mae: 1.6042\n",
      "Epoch 50/80\n",
      "404/404 [==============================] - 0s 856us/step - loss: 5.3995 - mae: 1.6068\n",
      "Epoch 51/80\n",
      "404/404 [==============================] - 0s 826us/step - loss: 5.1816 - mae: 1.5818\n",
      "Epoch 52/80\n",
      "404/404 [==============================] - 0s 835us/step - loss: 5.1223 - mae: 1.6011\n",
      "Epoch 53/80\n",
      "404/404 [==============================] - 0s 856us/step - loss: 5.4929 - mae: 1.5872\n",
      "Epoch 54/80\n",
      "404/404 [==============================] - 0s 941us/step - loss: 4.9880 - mae: 1.4945\n",
      "Epoch 55/80\n",
      "404/404 [==============================] - 0s 849us/step - loss: 5.4866 - mae: 1.5730\n",
      "Epoch 56/80\n",
      "404/404 [==============================] - 0s 838us/step - loss: 5.2344 - mae: 1.5596\n",
      "Epoch 57/80\n",
      "404/404 [==============================] - 0s 862us/step - loss: 5.1786 - mae: 1.5913\n",
      "Epoch 58/80\n",
      "404/404 [==============================] - 0s 866us/step - loss: 5.1122 - mae: 1.4950\n",
      "Epoch 59/80\n",
      "404/404 [==============================] - 0s 864us/step - loss: 4.8353 - mae: 1.4734\n",
      "Epoch 60/80\n",
      "404/404 [==============================] - 0s 848us/step - loss: 4.9862 - mae: 1.5070\n",
      "Epoch 61/80\n",
      "404/404 [==============================] - 0s 849us/step - loss: 4.7135 - mae: 1.4913\n",
      "Epoch 62/80\n",
      "404/404 [==============================] - 0s 950us/step - loss: 4.6213 - mae: 1.4688\n",
      "Epoch 63/80\n",
      "404/404 [==============================] - 0s 854us/step - loss: 4.6902 - mae: 1.4915\n",
      "Epoch 64/80\n",
      "404/404 [==============================] - 0s 899us/step - loss: 4.6546 - mae: 1.4623\n",
      "Epoch 65/80\n",
      "404/404 [==============================] - 0s 852us/step - loss: 4.4989 - mae: 1.5006\n",
      "Epoch 66/80\n",
      "404/404 [==============================] - 0s 824us/step - loss: 4.4096 - mae: 1.4343\n",
      "Epoch 67/80\n",
      "404/404 [==============================] - 0s 847us/step - loss: 4.5900 - mae: 1.4584\n",
      "Epoch 68/80\n",
      "404/404 [==============================] - 0s 988us/step - loss: 4.5462 - mae: 1.4497\n",
      "Epoch 69/80\n",
      "404/404 [==============================] - 0s 860us/step - loss: 4.6769 - mae: 1.4951\n",
      "Epoch 70/80\n",
      "404/404 [==============================] - 0s 842us/step - loss: 4.5339 - mae: 1.4387 0s - loss: 5.7725 - mae: 1\n",
      "Epoch 71/80\n",
      "404/404 [==============================] - 0s 864us/step - loss: 4.4193 - mae: 1.4114\n",
      "Epoch 72/80\n",
      "404/404 [==============================] - 0s 877us/step - loss: 4.3303 - mae: 1.4076\n",
      "Epoch 73/80\n",
      "404/404 [==============================] - 0s 860us/step - loss: 4.1661 - mae: 1.3799\n",
      "Epoch 74/80\n",
      "404/404 [==============================] - 0s 856us/step - loss: 4.1271 - mae: 1.3849\n",
      "Epoch 75/80\n",
      "404/404 [==============================] - 0s 895us/step - loss: 4.5511 - mae: 1.4046\n",
      "Epoch 76/80\n",
      "404/404 [==============================] - 0s 872us/step - loss: 4.2427 - mae: 1.4165\n",
      "Epoch 77/80\n",
      "404/404 [==============================] - 0s 842us/step - loss: 3.9031 - mae: 1.3504\n",
      "Epoch 78/80\n",
      "404/404 [==============================] - 0s 881us/step - loss: 4.5110 - mae: 1.4057\n",
      "Epoch 79/80\n",
      "404/404 [==============================] - 0s 830us/step - loss: 4.2432 - mae: 1.3837\n",
      "Epoch 80/80\n",
      "404/404 [==============================] - 0s 877us/step - loss: 3.8853 - mae: 1.3466\n"
     ]
    },
    {
     "data": {
      "text/plain": [
       "<tensorflow.python.keras.callbacks.History at 0x7f697c384760>"
      ]
     },
     "execution_count": 67,
     "metadata": {},
     "output_type": "execute_result"
    }
   ],
   "source": [
    "model = build_model()\n",
    "model.fit(train_data, train_targets, epochs=80, batch_size=1, verbose=1)\n"
   ]
  },
  {
   "cell_type": "code",
   "execution_count": 69,
   "metadata": {},
   "outputs": [
    {
     "name": "stdout",
     "output_type": "stream",
     "text": [
      "4/4 [==============================] - 0s 2ms/step - loss: 15.8104 - mae: 2.3135\n",
      "Test MSE Score 15.81042766571045, Test MAE Score 2.3134732246398926\n"
     ]
    }
   ],
   "source": [
    "test_mse_score, test_mae_score = model.evaluate(test_data, test_targets)\n",
    "\n",
    "print(f\"Test MSE Score {test_mse_score}, Test MAE Score {test_mae_score}\")"
   ]
  },
  {
   "cell_type": "markdown",
   "metadata": {},
   "source": [
    "Looking at our MAE score on the test set, we can conclude that we are still off about $2.300 "
   ]
  }
 ],
 "metadata": {
  "kernelspec": {
   "display_name": "Python 3",
   "language": "python",
   "name": "python3"
  },
  "language_info": {
   "codemirror_mode": {
    "name": "ipython",
    "version": 3
   },
   "file_extension": ".py",
   "mimetype": "text/x-python",
   "name": "python",
   "nbconvert_exporter": "python",
   "pygments_lexer": "ipython3",
   "version": "3.7.7"
  },
  "toc": {
   "base_numbering": 1,
   "nav_menu": {},
   "number_sections": true,
   "sideBar": true,
   "skip_h1_title": false,
   "title_cell": "Table of Contents",
   "title_sidebar": "Contents",
   "toc_cell": false,
   "toc_position": {},
   "toc_section_display": true,
   "toc_window_display": false
  }
 },
 "nbformat": 4,
 "nbformat_minor": 4
}
