{
 "cells": [
  {
   "cell_type": "markdown",
   "metadata": {},
   "source": [
    "# Binary classification with keras\n",
    "\n",
    "This notebooks contains a binary classication problem that is solved using a simple neural network, using the \n",
    "keras library. \n",
    "\n",
    "In this notebook we are going to deep dive into the following concepts:\n",
    "\n",
    "- **Data preparation**: you usually need to do quite a bit of preprocessing on your raw data in order to be able to feed it—as tensors—into a neural network. Sequences of words can be encoded as binary vectors, but there are other encoding options, too.\n",
    "- **Network architecture**: \n",
    "  - Stacks of Dense layers with relu activations can solve a wide range of problems (including sentiment  classification), and you’ll likely use them frequently.\n",
    "  - In a binary classification problem (two output classes), your network should end with a Dense layer with one unit and a sigmoid activation: the output of your network should be a scalar between 0 and 1, encoding a probability.\n",
    "  - With such a scalar sigmoid output on a binary classification problem, the loss function you should use is binary_crossentropy.\n",
    "  - The rmsprop optimizer is generally a good enough choice, whatever your problem. That’s one less thing for you to worry about.\n",
    "- **Overfitting**: as they get better on their training data, neural networks eventually start overfitting and end up obtaining increasingly worse results on data they’ve never seen before. Be sure to always monitor performance on data that is outside of the training set. "
   ]
  },
  {
   "cell_type": "code",
   "execution_count": 1,
   "metadata": {},
   "outputs": [],
   "source": [
    "from keras.datasets import imdb\n",
    "from keras import models, layers\n",
    "import matplotlib.pyplot as plt\n",
    "import numpy as np"
   ]
  },
  {
   "cell_type": "markdown",
   "metadata": {},
   "source": [
    "## 1. Data Loading\n",
    "\n",
    "We load some data from the keras libary. Most of the data pre-processing is already done, but we will still need to \n",
    "transform data into tensors in order to be able to feed that to keras"
   ]
  },
  {
   "cell_type": "code",
   "execution_count": 56,
   "metadata": {},
   "outputs": [],
   "source": [
    "(train_data, train_labels), (test_data, test_labels) = imdb.load_data(num_words=10000)\n",
    "# num_words= 10000 means \"top 10000 most frequent words\""
   ]
  },
  {
   "cell_type": "code",
   "execution_count": 57,
   "metadata": {},
   "outputs": [
    {
     "name": "stdout",
     "output_type": "stream",
     "text": [
      "train_data SHAPE: (25000,)\n",
      "train_labels SHAPE: (25000,)\n",
      "test_data SHAPE: (25000,)\n",
      "test_labels SHAPE: (25000,)\n"
     ]
    }
   ],
   "source": [
    "print(f\"train_data SHAPE: {train_data.shape}\")\n",
    "print(f\"train_labels SHAPE: {train_labels.shape}\")\n",
    "print(f\"test_data SHAPE: {test_data.shape}\")\n",
    "print(f\"test_labels SHAPE: {test_labels.shape}\")"
   ]
  },
  {
   "cell_type": "markdown",
   "metadata": {},
   "source": [
    "Below there's a sample of data. \n",
    "\n",
    "The train_labels is easy: 0 corresponds to negative sentiment, 1 to positive.\n",
    "\n",
    "The train_data instead contains reviews encoded as a list of word indexes (integers).\n",
    "Words are indexed by overall frequency in the dataset, so that for instance the integer \"3\" encodes the 3rd most frequent word in the data"
   ]
  },
  {
   "cell_type": "code",
   "execution_count": 58,
   "metadata": {},
   "outputs": [
    {
     "name": "stdout",
     "output_type": "stream",
     "text": [
      "train_data content: [1, 503, 20, 33, 118, 481, 302, 26, 184, 52, 835, 1120, 542, 2603, 13, 1408, 45, 6, 2364, 10, 10, 25, 276, 49, 2, 3239, 11, 129, 1642, 8, 607, 25, 39, 852, 5226, 2, 25, 605, 852, 3925, 5, 2777, 46, 852, 2, 25, 2146, 30, 608, 4044, 10, 10, 25, 789, 34, 4, 2, 54, 1544, 2173, 2018, 25, 79, 72, 202, 72, 6, 968, 2, 10, 10, 2872, 75, 359, 2872, 6214, 4, 2, 32, 75, 28, 9, 14, 2, 10, 10, 884, 1866, 9, 4, 4017, 2809, 10, 10, 719, 2, 70, 2885, 4, 2552, 2, 4430, 175, 6640, 11, 4, 2, 543, 1609]\n",
      "train_labels content: 0\n"
     ]
    }
   ],
   "source": [
    "print(f\"train_data content: {train_data[14]}\")\n",
    "print(f\"train_labels content: {train_labels[14]}\")"
   ]
  },
  {
   "cell_type": "code",
   "execution_count": 59,
   "metadata": {},
   "outputs": [
    {
     "name": "stdout",
     "output_type": "stream",
     "text": [
      "Downloading data from https://storage.googleapis.com/tensorflow/tf-keras-datasets/imdb_word_index.json\n",
      "1646592/1641221 [==============================] - 1s 1us/step\n"
     ]
    }
   ],
   "source": [
    "# this contains how words are mapped to their integer\n",
    "word_index = imdb.get_word_index(path=\"imdb_word_index.json\")"
   ]
  },
  {
   "cell_type": "code",
   "execution_count": 60,
   "metadata": {},
   "outputs": [],
   "source": [
    "reverse_word_index = dict([(value, key) for (key, value) in word_index.items()])\n",
    "decoded_review = ' '.join([reverse_word_index.get(i -3, '?') for i in train_data[14]])"
   ]
  },
  {
   "cell_type": "code",
   "execution_count": 61,
   "metadata": {},
   "outputs": [
    {
     "data": {
      "text/plain": [
       "\"? b movie at best sound effects are pretty good lame concept decent execution i suppose it's a rental br br you put some ? oil in your mouth to save you from de poison ? you cut de bite and suck out de ? you gonna be ok tommy br br you stay by the ? when agent harris calls you get me give me a fire ? br br weapons we need weapons where's the ? all we have is this ? br br dr price is the snake expert br br local ? can handle the occasional ? alert every er in the ? city area\""
      ]
     },
     "execution_count": 61,
     "metadata": {},
     "output_type": "execute_result"
    }
   ],
   "source": [
    "decoded_review"
   ]
  },
  {
   "cell_type": "markdown",
   "metadata": {},
   "source": [
    "## 2. Data preparation\n",
    "\n",
    "We turn the list of integers into tensors. We do this through one-hot encoding that turn the lists into vectors of \n",
    "0s and 1s. \n",
    "\n",
    "So if we consider for example the above train_data[14]: that sequence will turn into a 10000-dimensional vector\n",
    "(remember we have 10000 words) that would have all 0s excepts for the indices `1, 503, 20, 33, 118..` which would be 1s"
   ]
  },
  {
   "cell_type": "code",
   "execution_count": 62,
   "metadata": {},
   "outputs": [],
   "source": [
    "def vectorize_sequences(sequences, dimension=10000):\n",
    "    # rows = number of reviews in train_data and columns (feature) = 10000\n",
    "    results = np.zeros((len(sequences), dimension))\n",
    "    for i, sequences in enumerate(sequences):\n",
    "        results[i, sequences] = 1.\n",
    "    \n",
    "    return results"
   ]
  },
  {
   "cell_type": "code",
   "execution_count": 63,
   "metadata": {},
   "outputs": [],
   "source": [
    "x_train = vectorize_sequences(train_data)\n",
    "x_test = vectorize_sequences(test_data)"
   ]
  },
  {
   "cell_type": "code",
   "execution_count": 64,
   "metadata": {},
   "outputs": [
    {
     "name": "stdout",
     "output_type": "stream",
     "text": [
      "Shape after vectorization: (25000, 10000)\n",
      "Shape after vectorization: (25000, 10000)\n"
     ]
    }
   ],
   "source": [
    "print(f\"Shape after vectorization: {x_train.shape}\")\n",
    "print(f\"Shape after vectorization: {x_test.shape}\")"
   ]
  },
  {
   "cell_type": "code",
   "execution_count": 65,
   "metadata": {},
   "outputs": [],
   "source": [
    "# vectorizing labels too\n",
    "y_train = np.asarray(train_labels).astype(\"float32\")\n",
    "y_test = np.asarray(test_labels).astype(\"float32\")"
   ]
  },
  {
   "cell_type": "markdown",
   "metadata": {},
   "source": [
    "## 3. Bulding the network\n",
    "\n",
    "Here we need to design the network, in term of number of layers and number of hidden units per layer.\n",
    "\n",
    "Remember the formula for the size: \n",
    "    \n",
    "- n[0] = size of layer 0 (the input) --> (25000, 10000)\n",
    "- n[1] = number of hidden units in the first layer\n",
    "- W[1] = (the matrix of weights) will have shape (n[1], n[0])\n",
    "- Z[1] = (output of the 1st hidden layer) will have shape (n[1], n[0].shape[1]) --> (16, 10000)\n",
    "    \n",
    "For this example, we will use the following architecture:\n",
    "    \n",
    "- 2 intermediate layers with 16 hidden units and relu activation function\n",
    "- 3rd (output) layer with a sigmoid activation function. We use a sigmoid so to bring our prediction \n",
    "      between [0, 1] since we our goal is classification and so compute probabilities \n",
    "        \n",
    "Our hidden units will project the inputs onto a 16-dimensional representation space. Having more hidden units allows\n",
    "the network to learn more complex representations, but it might cause overfitting. \n",
    "\n",
    "**Note on activation functions**: they introduce non-linearity, without those the layers will only learn linear-transformations."
   ]
  },
  {
   "cell_type": "code",
   "execution_count": 66,
   "metadata": {},
   "outputs": [],
   "source": [
    "from keras import models, layers\n",
    "\n",
    "model = models.Sequential()\n",
    "# input_shape = correspondes to the number of features of our input X\n",
    "model.add(layers.Dense(16, activation=\"relu\", input_shape=(10000,)))\n",
    "model.add(layers.Dense(16, activation=\"relu\"))\n",
    "model.add(layers.Dense(1, activation=\"sigmoid\"))"
   ]
  },
  {
   "cell_type": "code",
   "execution_count": 67,
   "metadata": {},
   "outputs": [],
   "source": [
    "# we configure the type of loss and the optimizer\n",
    "\n",
    "model.compile(optimizer=\"rmsprop\", loss=\"binary_crossentropy\", metrics=[\"accuracy\"])"
   ]
  },
  {
   "cell_type": "markdown",
   "metadata": {},
   "source": [
    "## 4. Training the model\n",
    "\n",
    "To monitor during the training phase the accuracy of the model on data it has never seen before, we'll create\n",
    "a validation dataset. This dataset is passed to the `fit()` method and it will allow the process to evaluate\n",
    "the trained model after each epoch. \n",
    "\n",
    "The `fit()` method returns a history object that contains info about the training process."
   ]
  },
  {
   "cell_type": "code",
   "execution_count": 68,
   "metadata": {},
   "outputs": [
    {
     "name": "stdout",
     "output_type": "stream",
     "text": [
      "Validation set shape: (10000, 10000)\n",
      "Training set shape: (15000, 10000)\n"
     ]
    }
   ],
   "source": [
    "x_val = x_train[:10000]\n",
    "partial_x_train = x_train[10000:]\n",
    "y_val = y_train[:10000]\n",
    "partial_y_train = y_train[10000:]\n",
    "print(f\"Validation set shape: {x_val.shape}\")\n",
    "print(f\"Training set shape: {partial_x_train.shape}\")"
   ]
  },
  {
   "cell_type": "code",
   "execution_count": 69,
   "metadata": {},
   "outputs": [
    {
     "name": "stdout",
     "output_type": "stream",
     "text": [
      "Epoch 1/20\n",
      "30/30 [==============================] - 1s 35ms/step - loss: 0.5032 - accuracy: 0.8079 - val_loss: 0.3853 - val_accuracy: 0.8666\n",
      "Epoch 2/20\n",
      "30/30 [==============================] - 0s 17ms/step - loss: 0.3076 - accuracy: 0.9032 - val_loss: 0.3075 - val_accuracy: 0.8875\n",
      "Epoch 3/20\n",
      "30/30 [==============================] - 0s 16ms/step - loss: 0.2293 - accuracy: 0.9257 - val_loss: 0.2799 - val_accuracy: 0.8930\n",
      "Epoch 4/20\n",
      "30/30 [==============================] - 0s 16ms/step - loss: 0.1811 - accuracy: 0.9420 - val_loss: 0.2736 - val_accuracy: 0.8906\n",
      "Epoch 5/20\n",
      "30/30 [==============================] - 0s 16ms/step - loss: 0.1475 - accuracy: 0.9536 - val_loss: 0.2785 - val_accuracy: 0.8888\n",
      "Epoch 6/20\n",
      "30/30 [==============================] - 0s 17ms/step - loss: 0.1209 - accuracy: 0.9625 - val_loss: 0.2880 - val_accuracy: 0.8860\n",
      "Epoch 7/20\n",
      "30/30 [==============================] - 1s 17ms/step - loss: 0.1033 - accuracy: 0.9691 - val_loss: 0.3079 - val_accuracy: 0.8826\n",
      "Epoch 8/20\n",
      "30/30 [==============================] - 1s 18ms/step - loss: 0.0853 - accuracy: 0.9757 - val_loss: 0.3203 - val_accuracy: 0.8831\n",
      "Epoch 9/20\n",
      "30/30 [==============================] - 0s 16ms/step - loss: 0.0704 - accuracy: 0.9803 - val_loss: 0.3679 - val_accuracy: 0.8771\n",
      "Epoch 10/20\n",
      "30/30 [==============================] - 0s 15ms/step - loss: 0.0570 - accuracy: 0.9854 - val_loss: 0.3667 - val_accuracy: 0.8783\n",
      "Epoch 11/20\n",
      "30/30 [==============================] - 0s 17ms/step - loss: 0.0459 - accuracy: 0.9899 - val_loss: 0.3926 - val_accuracy: 0.8776\n",
      "Epoch 12/20\n",
      "30/30 [==============================] - 0s 17ms/step - loss: 0.0372 - accuracy: 0.9919 - val_loss: 0.4253 - val_accuracy: 0.8779\n",
      "Epoch 13/20\n",
      "30/30 [==============================] - 0s 16ms/step - loss: 0.0296 - accuracy: 0.9937 - val_loss: 0.4731 - val_accuracy: 0.8744\n",
      "Epoch 14/20\n",
      "30/30 [==============================] - 0s 16ms/step - loss: 0.0226 - accuracy: 0.9966 - val_loss: 0.5199 - val_accuracy: 0.8696\n",
      "Epoch 15/20\n",
      "30/30 [==============================] - 1s 18ms/step - loss: 0.0201 - accuracy: 0.9967 - val_loss: 0.5255 - val_accuracy: 0.8692\n",
      "Epoch 16/20\n",
      "30/30 [==============================] - 1s 17ms/step - loss: 0.0128 - accuracy: 0.9987 - val_loss: 0.5601 - val_accuracy: 0.8710\n",
      "Epoch 17/20\n",
      "30/30 [==============================] - 0s 16ms/step - loss: 0.0108 - accuracy: 0.9989 - val_loss: 0.5912 - val_accuracy: 0.8690\n",
      "Epoch 18/20\n",
      "30/30 [==============================] - 1s 18ms/step - loss: 0.0074 - accuracy: 0.9997 - val_loss: 0.6433 - val_accuracy: 0.8705\n",
      "Epoch 19/20\n",
      "30/30 [==============================] - 1s 18ms/step - loss: 0.0065 - accuracy: 0.9993 - val_loss: 0.6655 - val_accuracy: 0.8660\n",
      "Epoch 20/20\n",
      "30/30 [==============================] - 1s 17ms/step - loss: 0.0038 - accuracy: 0.9999 - val_loss: 0.8377 - val_accuracy: 0.8532\n"
     ]
    }
   ],
   "source": [
    "history = model.fit(partial_x_train, partial_y_train, epochs=20, batch_size=512, validation_data=(x_val, y_val))"
   ]
  },
  {
   "cell_type": "markdown",
   "metadata": {},
   "source": [
    "## 5. Checking results of the training job\n",
    "\n",
    "Looking at the below chats, we'll see that\n",
    "    \n",
    "- for the training set loss decreases at each epoch\n",
    "- for the training set accuracy increases at each epoch\n",
    "- for the validation set, we see that there's an overfitting starting from epoch 4 (loss starts increasing and accuracy starts decreasing)\n",
    "    \n",
    "\n",
    "We can retrain our neural network with 4 epochs then. We are going to evaluate the trained model against the test dataset"
   ]
  },
  {
   "cell_type": "code",
   "execution_count": 70,
   "metadata": {},
   "outputs": [],
   "source": [
    "# we extract the metrics for training and validation sets\n",
    "history_dict = history.history\n",
    "loss_values = history_dict[\"loss\"]\n",
    "val_loss_values = history_dict[\"val_loss\"]\n",
    "acc_values = history_dict['accuracy']\n",
    "val_acc_values = history_dict['val_accuracy']\n",
    "epochs = range(1, 21) # number of epochs\n"
   ]
  },
  {
   "cell_type": "code",
   "execution_count": 71,
   "metadata": {},
   "outputs": [
    {
     "data": {
      "image/png": "[encoded data removed]",
      "text/plain": [
       "<Figure size 432x288 with 1 Axes>"
      ]
     },
     "metadata": {
      "needs_background": "light"
     },
     "output_type": "display_data"
    }
   ],
   "source": [
    "# we plot the loss\n",
    "plt.plot(epochs, loss_values, 'bo', label='Training loss')\n",
    "plt.plot(epochs, val_loss_values, 'b', label='Validation loss')\n",
    "plt.title('Training and validation loss')\n",
    "plt.xlabel('Epochs')\n",
    "plt.ylabel('Loss')\n",
    "plt.legend()\n",
    "plt.show()"
   ]
  },
  {
   "cell_type": "code",
   "execution_count": 72,
   "metadata": {},
   "outputs": [
    {
     "data": {
      "image/png": "[encoded data removed]",
      "text/plain": [
       "<Figure size 432x288 with 1 Axes>"
      ]
     },
     "metadata": {
      "needs_background": "light"
     },
     "output_type": "display_data"
    }
   ],
   "source": [
    "# we plot the accuracy\n",
    "plt.plot(epochs, acc_values, 'bo', label='Training acc')\n",
    "plt.plot(epochs, val_acc_values, 'b', label='Validation acc')\n",
    "plt.title('Training and validation accuracy')\n",
    "plt.xlabel('Epochs')\n",
    "plt.ylabel('Accuracy')\n",
    "plt.legend()\n",
    "plt.show()"
   ]
  },
  {
   "cell_type": "markdown",
   "metadata": {},
   "source": [
    "## 6. Retrain the model with 4 epochs"
   ]
  },
  {
   "cell_type": "code",
   "execution_count": 74,
   "metadata": {},
   "outputs": [
    {
     "name": "stdout",
     "output_type": "stream",
     "text": [
      "Epoch 1/4\n",
      "30/30 [==============================] - 1s 33ms/step - loss: 0.5039 - accuracy: 0.8019 - val_loss: 0.3778 - val_accuracy: 0.8752\n",
      "Epoch 2/4\n",
      "30/30 [==============================] - 1s 17ms/step - loss: 0.3075 - accuracy: 0.8989 - val_loss: 0.3250 - val_accuracy: 0.8705\n",
      "Epoch 3/4\n",
      "30/30 [==============================] - 0s 16ms/step - loss: 0.2266 - accuracy: 0.9281 - val_loss: 0.2819 - val_accuracy: 0.8900\n",
      "Epoch 4/4\n",
      "30/30 [==============================] - 0s 16ms/step - loss: 0.1790 - accuracy: 0.9426 - val_loss: 0.2949 - val_accuracy: 0.8802\n",
      "782/782 [==============================] - 1s 2ms/step - loss: 0.3115 - accuracy: 0.8723\n"
     ]
    }
   ],
   "source": [
    "model = models.Sequential()\n",
    "# input_shape = correspondes to the number of features of our input X\n",
    "model.add(layers.Dense(16, activation=\"relu\", input_shape=(10000,)))\n",
    "model.add(layers.Dense(16, activation=\"relu\"))\n",
    "model.add(layers.Dense(1, activation=\"sigmoid\"))\n",
    "\n",
    "model.compile(optimizer=\"rmsprop\", loss=\"binary_crossentropy\", metrics=[\"accuracy\"])\n",
    "\n",
    "history = model.fit(partial_x_train, partial_y_train, epochs=4, batch_size=512, validation_data=(x_val, y_val))\n",
    "\n",
    "# evaluation on test dataset phase\n",
    "results = model.evaluate(x_test, y_test)"
   ]
  },
  {
   "cell_type": "code",
   "execution_count": 75,
   "metadata": {},
   "outputs": [
    {
     "name": "stdout",
     "output_type": "stream",
     "text": [
      "Results on test set. Loss: 0.3114638030529022, Accuracy: 0.8722800016403198\n"
     ]
    }
   ],
   "source": [
    "print(f\"Results on test set. Loss: {results[0]}, Accuracy: {results[1]}\")"
   ]
  },
  {
   "cell_type": "markdown",
   "metadata": {},
   "source": [
    "## 7. Prediction on test set\n",
    "\n",
    "Now we can use the trained model to predict unseen data (test data).\n",
    "The ouput of the `predict()` method is going to be the likelihood of reviews being positive.\n"
   ]
  },
  {
   "cell_type": "code",
   "execution_count": 76,
   "metadata": {},
   "outputs": [
    {
     "data": {
      "text/plain": [
       "array([[0.33495593],\n",
       "       [0.9985694 ],\n",
       "       [0.98192954],\n",
       "       ...,\n",
       "       [0.11945269],\n",
       "       [0.2034061 ],\n",
       "       [0.58461845]], dtype=float32)"
      ]
     },
     "execution_count": 76,
     "metadata": {},
     "output_type": "execute_result"
    }
   ],
   "source": [
    "model.predict(x_test)"
   ]
  },
  {
   "cell_type": "code",
   "execution_count": null,
   "metadata": {},
   "outputs": [],
   "source": []
  }
 ],
 "metadata": {
  "kernelspec": {
   "display_name": "Python 3",
   "language": "python",
   "name": "python3"
  },
  "language_info": {
   "codemirror_mode": {
    "name": "ipython",
    "version": 3
   },
   "file_extension": ".py",
   "mimetype": "text/x-python",
   "name": "python",
   "nbconvert_exporter": "python",
   "pygments_lexer": "ipython3",
   "version": "3.8.6"
  }
 },
 "nbformat": 4,
 "nbformat_minor": 4
}
