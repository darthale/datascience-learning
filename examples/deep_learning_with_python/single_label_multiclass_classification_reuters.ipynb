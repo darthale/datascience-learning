{
 "cells": [
  {
   "cell_type": "markdown",
   "metadata": {},
   "source": [
    "# Single Label, Multiclass Classification with Keras\n",
    "\n",
    "This notebooks contains a single label, multiclass classication problem that is solved using a simple neural network, using the keras library.\n",
    "\n",
    "In this notebook we are going to deep dive into the following concepts:\n",
    "\n",
    "- **Data preparation**: you usually need to do quite a bit of preprocessing on your raw data in order to be able to feed it—as tensors—into a neural network. Sequences of words can be encoded as binary vectors, but there are other encoding options, too\n",
    "- **Network Architecture**: \n",
    "  - If you’re trying to classify data points among N classes, your network should end with a Dense layer of size N.\n",
    "  - In a single-label, multiclass classification problem, your network should end with a softmax activation so that it will output a probability distribution over the N output classes.\n",
    "  - Categorical crossentropy is almost always the loss function you should use for such problems. It minimizes the distance between the probability distributions output by the network and the true distribution of the targets.\n",
    "  - There are two ways to handle labels in multiclass classification:\n",
    "      - Encoding the labels via categorical encoding (also known as one-hot encoding) and using categorical_crossentropy as a loss function\n",
    "      - Encoding the labels as integers and using the sparse_categorical_crossentropy loss function\n",
    "  - If you need to classify data into a large number of categories, you should avoid creating information bottlenecks in your network due to intermediate layers that are too small. \n",
    "- **Overfitting**: as they get better on their training data, neural networks eventually start overfitting and end up obtaining increasingly worse results on data they’ve never seen before. Be sure to always monitor performance on data that is outside of the training set. "
   ]
  },
  {
   "cell_type": "code",
   "execution_count": 68,
   "metadata": {},
   "outputs": [],
   "source": [
    "from keras.datasets import reuters\n",
    "from keras import models, layers\n",
    "from keras.utils.np_utils import to_categorical\n",
    "import matplotlib.pyplot as plt\n",
    "import numpy as np"
   ]
  },
  {
   "cell_type": "markdown",
   "metadata": {},
   "source": [
    "## 1. Data loading\n",
    "\n",
    "We load some data from the keras libary. Most of the data pre-processing is already done, but we will still need to transform data into tensors in order to be able to feed that to keras. \n",
    "\n",
    "(to undertand data format, check the imdb example, since data come in the same shape)"
   ]
  },
  {
   "cell_type": "code",
   "execution_count": 2,
   "metadata": {},
   "outputs": [
    {
     "name": "stdout",
     "output_type": "stream",
     "text": [
      "Downloading data from https://storage.googleapis.com/tensorflow/tf-keras-datasets/reuters.npz\n",
      "2113536/2110848 [==============================] - 1s 1us/step\n"
     ]
    }
   ],
   "source": [
    "(train_data, train_labels), (test_data, test_labels) = reuters.load_data(num_words=10000)"
   ]
  },
  {
   "cell_type": "code",
   "execution_count": 4,
   "metadata": {},
   "outputs": [
    {
     "name": "stdout",
     "output_type": "stream",
     "text": [
      "train_data SHAPE: (8982,)\n",
      "train_labels SHAPE: (8982,)\n",
      "test_data SHAPE: (2246,)\n",
      "test_labels SHAPE: (2246,)\n"
     ]
    }
   ],
   "source": [
    "print(f\"train_data SHAPE: {train_data.shape}\")\n",
    "print(f\"train_labels SHAPE: {train_labels.shape}\")\n",
    "print(f\"test_data SHAPE: {test_data.shape}\")\n",
    "print(f\"test_labels SHAPE: {test_labels.shape}\")"
   ]
  },
  {
   "cell_type": "markdown",
   "metadata": {},
   "source": [
    "## 2. Data preparation\n",
    "\n",
    "We turn the list of integers into tensors. We do this through one-hot encoding that turn the lists into vectors of 0s and 1s.\n",
    "\n",
    "We also vectorize the labels using one-hot encoding (or else categorical encoding)"
   ]
  },
  {
   "cell_type": "code",
   "execution_count": 69,
   "metadata": {},
   "outputs": [],
   "source": [
    "def vectorize_sequences(sequences, dimension=10000):\n",
    "    # rows = number of news in train_data and columns (feature) = 10000\n",
    "    results = np.zeros((len(sequences), dimension))\n",
    "    for i, sequences in enumerate(sequences):\n",
    "        results[i, sequences] = 1.\n",
    "    \n",
    "    return results"
   ]
  },
  {
   "cell_type": "code",
   "execution_count": 70,
   "metadata": {},
   "outputs": [],
   "source": [
    "# vectorizing features in samples\n",
    "x_train = vectorize_sequences(train_data)\n",
    "x_test = vectorize_sequences(test_data)"
   ]
  },
  {
   "cell_type": "code",
   "execution_count": 71,
   "metadata": {},
   "outputs": [],
   "source": [
    "# vecorizing labels in samples (one-hot encoding or else sad categorical encoding)\n",
    "one_hot_train_labels = to_categorical(train_labels)\n",
    "one_hot_test_labels = to_categorical(test_labels)"
   ]
  },
  {
   "cell_type": "markdown",
   "metadata": {},
   "source": [
    "If we inspect the labels we will notice that `to_categorical` converted a vector of dim (8982,) (where each row was a label) to one of dim (8982, 46) (where each row has 45 labels as 0s with 1 label sets as 1)."
   ]
  },
  {
   "cell_type": "code",
   "execution_count": 72,
   "metadata": {},
   "outputs": [
    {
     "data": {
      "text/plain": [
       "(8982, 46)"
      ]
     },
     "execution_count": 72,
     "metadata": {},
     "output_type": "execute_result"
    }
   ],
   "source": [
    "one_hot_train_labels.shape\n",
    "# 8982 sampls and 46 labels"
   ]
  },
  {
   "cell_type": "code",
   "execution_count": 74,
   "metadata": {},
   "outputs": [
    {
     "name": "stdout",
     "output_type": "stream",
     "text": [
      "train_labels shape: (8982,)\n",
      "one_hot_train_labels shape: (8982, 46)\n",
      "train_labels at index 1: 4\n",
      "one_hot_train_labels at index 1: [0. 0. 0. 0. 1. 0. 0. 0. 0. 0. 0. 0. 0. 0. 0. 0. 0. 0. 0. 0. 0. 0. 0. 0.\n",
      " 0. 0. 0. 0. 0. 0. 0. 0. 0. 0. 0. 0. 0. 0. 0. 0. 0. 0. 0. 0. 0. 0.]\n"
     ]
    }
   ],
   "source": [
    "print(f\"train_labels shape: {train_labels.shape}\")\n",
    "print(f\"one_hot_train_labels shape: {one_hot_train_labels.shape}\")\n",
    "print(f\"train_labels at index 1: {train_labels[1]}\")\n",
    "print(f\"one_hot_train_labels at index 1: {one_hot_train_labels[1]}\")"
   ]
  },
  {
   "cell_type": "markdown",
   "metadata": {},
   "source": [
    "## Building the network\n",
    "\n",
    "In a stack of Dense layers, each layer can only access information present in the output of the previous layer. If one layer drops some information relevant to the classification problem, this information can never be recovered by later\n",
    "layers: each layer can potentially become an information bottleneck. \n",
    "\n",
    "So for the **middle layers**, since we have 46 different classes to learn, we are going to use use bigger layers (in term of number of hidden units), in this case 64.\n",
    "\n",
    "For the **output layer** instead:\n",
    "\n",
    "- since we are aiming to classify the input in 1 out of 46 available classes, we are going to have 46 units. Each entry in this vector (each dimension) will encode a different output class\n",
    "- we are going to use a softmax activation so that the network will output a probability distribution over 46 different output classes. For every input sample, the network will produce a 46-dimensional output vector, where output[i] is the probability that the sample belongs to class i. The 46 scores will sum to 1\n",
    "\n",
    "As **loss function** we are going to use categorical_crossentropy, as it measures the distance between 2 probability distributions. In our case, between the probability distribution output by the network and the true distribution of the labels."
   ]
  },
  {
   "cell_type": "code",
   "execution_count": 75,
   "metadata": {},
   "outputs": [],
   "source": [
    "model = models.Sequential()\n",
    "model.add(layers.Dense(64, activation='relu', input_shape=(10000,)))\n",
    "model.add(layers.Dense(64, activation='relu'))\n",
    "model.add(layers.Dense(46, activation='softmax'))"
   ]
  },
  {
   "cell_type": "code",
   "execution_count": 76,
   "metadata": {},
   "outputs": [],
   "source": [
    "model.compile(optimizer='rmsprop', loss='categorical_crossentropy', metrics=['accuracy'])"
   ]
  },
  {
   "cell_type": "markdown",
   "metadata": {},
   "source": [
    "## 4. Training the model\n",
    "\n",
    "To monitor during the training phase the accuracy of the model on data it has never seen before, we'll create\n",
    "a validation dataset. This dataset is passed to the `fit()` method and it will allow the process to evaluate\n",
    "the trained model after each epoch. \n",
    "\n",
    "The `fit()` method returns a history object that contains info about the training process."
   ]
  },
  {
   "cell_type": "code",
   "execution_count": 77,
   "metadata": {},
   "outputs": [],
   "source": [
    "x_val = x_train[:1000]\n",
    "partial_x_train = x_train[1000:]\n",
    "y_val = one_hot_train_labels[:1000]\n",
    "partial_y_train = one_hot_train_labels[1000:]"
   ]
  },
  {
   "cell_type": "code",
   "execution_count": 78,
   "metadata": {},
   "outputs": [
    {
     "name": "stdout",
     "output_type": "stream",
     "text": [
      "Epoch 1/20\n",
      "16/16 [==============================] - 1s 31ms/step - loss: 2.6741 - accuracy: 0.5278 - val_loss: 1.7005 - val_accuracy: 0.6390\n",
      "Epoch 2/20\n",
      "16/16 [==============================] - 0s 20ms/step - loss: 1.4038 - accuracy: 0.7112 - val_loss: 1.3147 - val_accuracy: 0.7170\n",
      "Epoch 3/20\n",
      "16/16 [==============================] - 0s 20ms/step - loss: 1.0389 - accuracy: 0.7818 - val_loss: 1.1373 - val_accuracy: 0.7650\n",
      "Epoch 4/20\n",
      "16/16 [==============================] - 0s 21ms/step - loss: 0.8169 - accuracy: 0.8312 - val_loss: 1.0347 - val_accuracy: 0.7830\n",
      "Epoch 5/20\n",
      "16/16 [==============================] - 0s 21ms/step - loss: 0.6500 - accuracy: 0.8687 - val_loss: 0.9582 - val_accuracy: 0.8040\n",
      "Epoch 6/20\n",
      "16/16 [==============================] - 0s 21ms/step - loss: 0.5211 - accuracy: 0.8959 - val_loss: 0.9164 - val_accuracy: 0.8030\n",
      "Epoch 7/20\n",
      "16/16 [==============================] - 0s 20ms/step - loss: 0.4196 - accuracy: 0.9134 - val_loss: 0.8938 - val_accuracy: 0.8140\n",
      "Epoch 8/20\n",
      "16/16 [==============================] - 0s 21ms/step - loss: 0.3402 - accuracy: 0.9286 - val_loss: 0.8843 - val_accuracy: 0.8160\n",
      "Epoch 9/20\n",
      "16/16 [==============================] - 0s 21ms/step - loss: 0.2823 - accuracy: 0.9376 - val_loss: 0.8976 - val_accuracy: 0.8150\n",
      "Epoch 10/20\n",
      "16/16 [==============================] - 0s 21ms/step - loss: 0.2383 - accuracy: 0.9444 - val_loss: 0.9050 - val_accuracy: 0.8180\n",
      "Epoch 11/20\n",
      "16/16 [==============================] - 0s 22ms/step - loss: 0.2040 - accuracy: 0.9498 - val_loss: 0.8997 - val_accuracy: 0.8290\n",
      "Epoch 12/20\n",
      "16/16 [==============================] - 0s 20ms/step - loss: 0.1887 - accuracy: 0.9498 - val_loss: 0.9571 - val_accuracy: 0.8090\n",
      "Epoch 13/20\n",
      "16/16 [==============================] - 0s 21ms/step - loss: 0.1633 - accuracy: 0.9528 - val_loss: 0.9381 - val_accuracy: 0.8160\n",
      "Epoch 14/20\n",
      "16/16 [==============================] - 0s 21ms/step - loss: 0.1519 - accuracy: 0.9531 - val_loss: 0.9556 - val_accuracy: 0.8100\n",
      "Epoch 15/20\n",
      "16/16 [==============================] - 0s 20ms/step - loss: 0.1433 - accuracy: 0.9548 - val_loss: 0.9841 - val_accuracy: 0.8110\n",
      "Epoch 16/20\n",
      "16/16 [==============================] - 0s 22ms/step - loss: 0.1343 - accuracy: 0.9553 - val_loss: 1.0075 - val_accuracy: 0.8070\n",
      "Epoch 17/20\n",
      "16/16 [==============================] - 0s 21ms/step - loss: 0.1230 - accuracy: 0.9577 - val_loss: 1.0464 - val_accuracy: 0.7980\n",
      "Epoch 18/20\n",
      "16/16 [==============================] - 0s 21ms/step - loss: 0.1197 - accuracy: 0.9579 - val_loss: 1.0715 - val_accuracy: 0.8060\n",
      "Epoch 19/20\n",
      "16/16 [==============================] - 0s 22ms/step - loss: 0.1219 - accuracy: 0.9583 - val_loss: 1.0798 - val_accuracy: 0.8030\n",
      "Epoch 20/20\n",
      "16/16 [==============================] - 0s 18ms/step - loss: 0.1141 - accuracy: 0.9580 - val_loss: 1.1136 - val_accuracy: 0.7970\n"
     ]
    }
   ],
   "source": [
    "history = model.fit(partial_x_train, partial_y_train, epochs=20, batch_size=512, validation_data=(x_val, y_val))"
   ]
  },
  {
   "cell_type": "markdown",
   "metadata": {},
   "source": [
    "## 5. Checking results of the training job\n",
    "\n",
    "Looking at the below chats, we'll see that\n",
    "    \n",
    "- for the training set loss decreases at each epoch\n",
    "- for the training set accuracy increases at each epoch\n",
    "- for the validation set, we see that there's an overfitting starting from epoch 9 (loss starts increasing and accuracy starts decreasing)\n",
    "    \n",
    "We can retrain our neural network with 9 epochs then. We are going to evaluate the trained model against the test dataset"
   ]
  },
  {
   "cell_type": "code",
   "execution_count": 81,
   "metadata": {},
   "outputs": [],
   "source": [
    "loss = history.history['loss']\n",
    "val_loss = history.history['val_loss']\n",
    "acc = history.history['accuracy']\n",
    "val_acc = history.history['val_accuracy']\n",
    "epochs = range(1, len(loss) + 1)"
   ]
  },
  {
   "cell_type": "code",
   "execution_count": 82,
   "metadata": {},
   "outputs": [
    {
     "data": {
      "image/png": "[encoded data removed]",
      "text/plain": [
       "<Figure size 576x396 with 1 Axes>"
      ]
     },
     "metadata": {},
     "output_type": "display_data"
    }
   ],
   "source": [
    "plt.clf()\n",
    "plt.plot(epochs, loss, 'bo', label='Training loss')\n",
    "plt.plot(epochs, val_loss, 'b', label='Validation loss')\n",
    "plt.title('Training and validation loss')\n",
    "plt.xlabel('Epochs')\n",
    "plt.ylabel('Loss')\n",
    "plt.legend()\n",
    "plt.show()"
   ]
  },
  {
   "cell_type": "code",
   "execution_count": 83,
   "metadata": {},
   "outputs": [
    {
     "data": {
      "image/png": "[encoded data removed]",
      "text/plain": [
       "<Figure size 576x396 with 1 Axes>"
      ]
     },
     "metadata": {},
     "output_type": "display_data"
    }
   ],
   "source": [
    "plt.plot(epochs, acc, 'bo', label='Training acc')\n",
    "plt.plot(epochs, val_acc, 'b', label='Validation acc')\n",
    "plt.title('Training and validation accuracy')\n",
    "plt.xlabel('Epochs')\n",
    "plt.ylabel('Accuracy')\n",
    "plt.legend()\n",
    "plt.show()"
   ]
  },
  {
   "cell_type": "markdown",
   "metadata": {},
   "source": [
    "## 6. Retrain the model with 9 epochs\n"
   ]
  },
  {
   "cell_type": "code",
   "execution_count": 84,
   "metadata": {},
   "outputs": [
    {
     "name": "stdout",
     "output_type": "stream",
     "text": [
      "Epoch 1/9\n",
      "16/16 [==============================] - 0s 31ms/step - loss: 2.8792 - accuracy: 0.4788 - val_loss: 1.8938 - val_accuracy: 0.6430\n",
      "Epoch 2/9\n",
      "16/16 [==============================] - 0s 21ms/step - loss: 1.5043 - accuracy: 0.6982 - val_loss: 1.3150 - val_accuracy: 0.7150\n",
      "Epoch 3/9\n",
      "16/16 [==============================] - 0s 21ms/step - loss: 1.0657 - accuracy: 0.7781 - val_loss: 1.1153 - val_accuracy: 0.7740\n",
      "Epoch 4/9\n",
      "16/16 [==============================] - 0s 20ms/step - loss: 0.8244 - accuracy: 0.8321 - val_loss: 1.0101 - val_accuracy: 0.8000\n",
      "Epoch 5/9\n",
      "16/16 [==============================] - 0s 20ms/step - loss: 0.6518 - accuracy: 0.8695 - val_loss: 0.9897 - val_accuracy: 0.7910\n",
      "Epoch 6/9\n",
      "16/16 [==============================] - 0s 21ms/step - loss: 0.5308 - accuracy: 0.8939 - val_loss: 0.9260 - val_accuracy: 0.8050\n",
      "Epoch 7/9\n",
      "16/16 [==============================] - 0s 21ms/step - loss: 0.4217 - accuracy: 0.9149 - val_loss: 0.8999 - val_accuracy: 0.8060\n",
      "Epoch 8/9\n",
      "16/16 [==============================] - 0s 20ms/step - loss: 0.3462 - accuracy: 0.9296 - val_loss: 0.8954 - val_accuracy: 0.8190\n",
      "Epoch 9/9\n",
      "16/16 [==============================] - 0s 19ms/step - loss: 0.2851 - accuracy: 0.9372 - val_loss: 0.9315 - val_accuracy: 0.8020\n",
      "71/71 [==============================] - 0s 2ms/step - loss: 1.0128 - accuracy: 0.7814\n"
     ]
    }
   ],
   "source": [
    "model = models.Sequential()\n",
    "model.add(layers.Dense(64, activation='relu', input_shape=(10000,)))\n",
    "model.add(layers.Dense(64, activation='relu'))\n",
    "model.add(layers.Dense(46, activation='softmax'))\n",
    "\n",
    "model.compile(optimizer='rmsprop', loss='categorical_crossentropy', metrics=['accuracy'])\n",
    "\n",
    "model.fit(partial_x_train, partial_y_train, epochs=9, batch_size=512, validation_data=(x_val, y_val))\n",
    "\n",
    "# evaluation on test dataset phase\n",
    "results = model.evaluate(x_test, one_hot_test_labels)"
   ]
  },
  {
   "cell_type": "code",
   "execution_count": 85,
   "metadata": {},
   "outputs": [
    {
     "name": "stdout",
     "output_type": "stream",
     "text": [
      "Results on test set. Loss: 1.0127917528152466, Accuracy: 0.7813891172409058\n"
     ]
    }
   ],
   "source": [
    "print(f\"Results on test set. Loss: {results[0]}, Accuracy: {results[1]}\")"
   ]
  },
  {
   "cell_type": "markdown",
   "metadata": {},
   "source": [
    "## 7. Prediction on test set\n",
    "\n",
    "Now we can use the trained model to predict unseen data (test data).\n",
    "The ouput of the `predict()` method of the model instance returns a probability\n",
    "distribution over all 46 topics.\n"
   ]
  },
  {
   "cell_type": "code",
   "execution_count": 86,
   "metadata": {},
   "outputs": [
    {
     "data": {
      "text/plain": [
       "array([[1.39318336e-05, 8.76342019e-05, 1.10643341e-05, ...,\n",
       "        2.73886690e-05, 2.25555846e-06, 8.36293566e-07],\n",
       "       [2.75311060e-03, 8.17807671e-03, 1.60298035e-01, ...,\n",
       "        3.20072897e-04, 3.91859248e-05, 2.12336378e-03],\n",
       "       [1.52852992e-02, 8.67380083e-01, 1.45816978e-03, ...,\n",
       "        4.08410502e-04, 2.59808567e-05, 5.14826097e-04],\n",
       "       ...,\n",
       "       [1.36221370e-05, 2.30424266e-04, 4.38392235e-05, ...,\n",
       "        5.18124216e-05, 1.46890907e-05, 4.56202633e-06],\n",
       "       [3.90747888e-03, 8.17185491e-02, 8.48500989e-03, ...,\n",
       "        6.55843003e-04, 1.92637468e-04, 5.21746173e-04],\n",
       "       [3.76672787e-03, 8.90879035e-01, 3.83414305e-03, ...,\n",
       "        6.95296680e-04, 1.13549635e-04, 3.49095382e-04]], dtype=float32)"
      ]
     },
     "execution_count": 86,
     "metadata": {},
     "output_type": "execute_result"
    }
   ],
   "source": [
    "model.predict(x_test)"
   ]
  },
  {
   "cell_type": "code",
   "execution_count": null,
   "metadata": {},
   "outputs": [],
   "source": []
  }
 ],
 "metadata": {
  "kernelspec": {
   "display_name": "Python 3",
   "language": "python",
   "name": "python3"
  },
  "language_info": {
   "codemirror_mode": {
    "name": "ipython",
    "version": 3
   },
   "file_extension": ".py",
   "mimetype": "text/x-python",
   "name": "python",
   "nbconvert_exporter": "python",
   "pygments_lexer": "ipython3",
   "version": "3.8.6"
  }
 },
 "nbformat": 4,
 "nbformat_minor": 4
}
